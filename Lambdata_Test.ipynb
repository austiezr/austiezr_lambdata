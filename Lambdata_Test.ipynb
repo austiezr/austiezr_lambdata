{
  "nbformat": 4,
  "nbformat_minor": 0,
  "metadata": {
    "colab": {
      "name": "Lambdata-Test.ipynb",
      "provenance": [],
      "authorship_tag": "ABX9TyOaTPETz1FVRXC6eVukdAgu",
      "include_colab_link": true
    },
    "kernelspec": {
      "name": "python3",
      "display_name": "Python 3"
    }
  },
  "cells": [
    {
      "cell_type": "markdown",
      "metadata": {
        "id": "view-in-github",
        "colab_type": "text"
      },
      "source": [
        "<a href=\"https://colab.research.google.com/github/austiezr/austiezr_lambdata/blob/master/Lambdata_Test.ipynb\" target=\"_parent\"><img src=\"https://colab.research.google.com/assets/colab-badge.svg\" alt=\"Open In Colab\"/></a>"
      ]
    },
    {
      "cell_type": "code",
      "metadata": {
        "id": "qXePQOg9HhYm",
        "colab_type": "code",
        "colab": {}
      },
      "source": [
        "%%capture\n",
        "\n",
        "!pip install --index-url https://test.pypi.org/simple/ austiezr-lambdata\n",
        "from austiezr_lambdata.austiezr_lambdata import MVP, TransformDF\n",
        "\n",
        "from sklearn.linear_model import LogisticRegressionCV, LinearRegression\n",
        "import pandas as pd"
      ],
      "execution_count": 0,
      "outputs": []
    },
    {
      "cell_type": "code",
      "metadata": {
        "id": "t4kDXGoZH42p",
        "colab_type": "code",
        "colab": {}
      },
      "source": [
        "%%capture\n",
        "\n",
        "!wget 'https://archive.ics.uci.edu/ml/machine-learning-databases/00320/student.zip'\n",
        "!unzip 'student.zip'\n",
        "\n",
        "df = pd.read_csv('/content/student-mat.csv', sep=';')\n",
        "df['course'] = 'Math'\n",
        "df1 = pd.read_csv('/content/student-por.csv', sep=';')\n",
        "df1['course'] = 'Language'\n",
        "df = df.append(df1, ignore_index=True)"
      ],
      "execution_count": 0,
      "outputs": []
    },
    {
      "cell_type": "code",
      "metadata": {
        "id": "6V05BRuozlMj",
        "colab_type": "code",
        "colab": {
          "base_uri": "https://localhost:8080/",
          "height": 106
        },
        "outputId": "ca111fff-1686-45bc-e4f9-0a5462ea100a"
      },
      "source": [
        "dateTest = pd.DataFrame(data=['2006-12-15', '2003-11-22'], columns=['date'])\n",
        "dateTest"
      ],
      "execution_count": 3,
      "outputs": [
        {
          "output_type": "execute_result",
          "data": {
            "text/html": [
              "<div>\n",
              "<style scoped>\n",
              "    .dataframe tbody tr th:only-of-type {\n",
              "        vertical-align: middle;\n",
              "    }\n",
              "\n",
              "    .dataframe tbody tr th {\n",
              "        vertical-align: top;\n",
              "    }\n",
              "\n",
              "    .dataframe thead th {\n",
              "        text-align: right;\n",
              "    }\n",
              "</style>\n",
              "<table border=\"1\" class=\"dataframe\">\n",
              "  <thead>\n",
              "    <tr style=\"text-align: right;\">\n",
              "      <th></th>\n",
              "      <th>date</th>\n",
              "    </tr>\n",
              "  </thead>\n",
              "  <tbody>\n",
              "    <tr>\n",
              "      <th>0</th>\n",
              "      <td>2006-12-15</td>\n",
              "    </tr>\n",
              "    <tr>\n",
              "      <th>1</th>\n",
              "      <td>2003-11-22</td>\n",
              "    </tr>\n",
              "  </tbody>\n",
              "</table>\n",
              "</div>"
            ],
            "text/plain": [
              "         date\n",
              "0  2006-12-15\n",
              "1  2003-11-22"
            ]
          },
          "metadata": {
            "tags": []
          },
          "execution_count": 3
        }
      ]
    },
    {
      "cell_type": "code",
      "metadata": {
        "id": "TVL6bjb4yiYd",
        "colab_type": "code",
        "colab": {
          "base_uri": "https://localhost:8080/",
          "height": 106
        },
        "outputId": "dbda77a7-bba4-4fe1-a7ca-0f55efa8e35f"
      },
      "source": [
        "dateTest = TransformDF.date_split(dateTest, 'date')\n",
        "dateTest"
      ],
      "execution_count": 4,
      "outputs": [
        {
          "output_type": "execute_result",
          "data": {
            "text/html": [
              "<div>\n",
              "<style scoped>\n",
              "    .dataframe tbody tr th:only-of-type {\n",
              "        vertical-align: middle;\n",
              "    }\n",
              "\n",
              "    .dataframe tbody tr th {\n",
              "        vertical-align: top;\n",
              "    }\n",
              "\n",
              "    .dataframe thead th {\n",
              "        text-align: right;\n",
              "    }\n",
              "</style>\n",
              "<table border=\"1\" class=\"dataframe\">\n",
              "  <thead>\n",
              "    <tr style=\"text-align: right;\">\n",
              "      <th></th>\n",
              "      <th>date</th>\n",
              "      <th>year</th>\n",
              "      <th>month</th>\n",
              "      <th>day</th>\n",
              "      <th>day_of_week</th>\n",
              "      <th>day_of_year</th>\n",
              "    </tr>\n",
              "  </thead>\n",
              "  <tbody>\n",
              "    <tr>\n",
              "      <th>0</th>\n",
              "      <td>2006-12-15</td>\n",
              "      <td>2006</td>\n",
              "      <td>12</td>\n",
              "      <td>15</td>\n",
              "      <td>4</td>\n",
              "      <td>349</td>\n",
              "    </tr>\n",
              "    <tr>\n",
              "      <th>1</th>\n",
              "      <td>2003-11-22</td>\n",
              "      <td>2003</td>\n",
              "      <td>11</td>\n",
              "      <td>22</td>\n",
              "      <td>5</td>\n",
              "      <td>326</td>\n",
              "    </tr>\n",
              "  </tbody>\n",
              "</table>\n",
              "</div>"
            ],
            "text/plain": [
              "        date  year  month  day  day_of_week  day_of_year\n",
              "0 2006-12-15  2006     12   15            4          349\n",
              "1 2003-11-22  2003     11   22            5          326"
            ]
          },
          "metadata": {
            "tags": []
          },
          "execution_count": 4
        }
      ]
    },
    {
      "cell_type": "code",
      "metadata": {
        "id": "s8K0QmNMKYBK",
        "colab_type": "code",
        "colab": {
          "base_uri": "https://localhost:8080/",
          "height": 185
        },
        "outputId": "36ca1e3c-2a06-43ca-a821-2af9df152120"
      },
      "source": [
        "MVP(LogisticRegressionCV(n_jobs=-1,\n",
        "                       random_state=33,\n",
        "                       max_iter=200\n",
        "                       )).fast_first(df, 'course')"
      ],
      "execution_count": 5,
      "outputs": [
        {
          "output_type": "stream",
          "text": [
            "Baseline Accuracy:\n",
            "Language    0.621648\n",
            "Math        0.378352\n",
            "Name: course, dtype: float64\n",
            "\n",
            "\n",
            "Training Accuracy: 0.8287425149700599\n",
            "\n",
            "Test Accuracy: 0.7655502392344498\n",
            "\n"
          ],
          "name": "stdout"
        }
      ]
    },
    {
      "cell_type": "code",
      "metadata": {
        "id": "_djGVV3BwDkM",
        "colab_type": "code",
        "colab": {
          "base_uri": "https://localhost:8080/",
          "height": 118
        },
        "outputId": "cc800a5c-ed30-414a-842c-e032f1d47ead"
      },
      "source": [
        "MVP(LinearRegression()).fast_first(df, 'G3')"
      ],
      "execution_count": 6,
      "outputs": [
        {
          "output_type": "stream",
          "text": [
            "Baseline MAE: 2.82088122605364\n",
            "\n",
            "Training MAE: 0.9348248456160956\n",
            "\n",
            "Test MAE: 1.0109881978970134\n",
            "\n"
          ],
          "name": "stdout"
        }
      ]
    }
  ]
}
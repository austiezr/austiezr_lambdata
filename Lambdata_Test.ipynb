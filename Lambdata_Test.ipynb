{
  "nbformat": 4,
  "nbformat_minor": 0,
  "metadata": {
    "colab": {
      "name": "Lambdata-Test.ipynb",
      "provenance": [],
      "authorship_tag": "ABX9TyOI/sW+Z35BA7+Ud22V6CB3",
      "include_colab_link": true
    },
    "kernelspec": {
      "name": "python3",
      "display_name": "Python 3"
    }
  },
  "cells": [
    {
      "cell_type": "markdown",
      "metadata": {
        "id": "view-in-github",
        "colab_type": "text"
      },
      "source": [
        "<a href=\"https://colab.research.google.com/github/austiezr/austiezr_lambdata/blob/master/Lambdata_Test.ipynb\" target=\"_parent\"><img src=\"https://colab.research.google.com/assets/colab-badge.svg\" alt=\"Open In Colab\"/></a>"
      ]
    },
    {
      "cell_type": "code",
      "metadata": {
        "id": "qXePQOg9HhYm",
        "colab_type": "code",
        "colab": {}
      },
      "source": [
        "%%capture\n",
        "\n",
        "!pip install --index-url https://test.pypi.org/simple/ austiezr-lambdata\n",
        "from austiezr_lambdata.austiezr_lambdata import MVP\n",
        "from sklearn.linear_model import LogisticRegressionCV, LinearRegression\n",
        "import pandas as pd"
      ],
      "execution_count": 0,
      "outputs": []
    },
    {
      "cell_type": "code",
      "metadata": {
        "id": "t4kDXGoZH42p",
        "colab_type": "code",
        "colab": {}
      },
      "source": [
        "%%capture\n",
        "\n",
        "!wget 'https://archive.ics.uci.edu/ml/machine-learning-databases/00320/student.zip'\n",
        "!unzip 'student.zip'\n",
        "\n",
        "df = pd.read_csv('/content/student-mat.csv', sep=';')\n",
        "df['course'] = 'Math'\n",
        "df1 = pd.read_csv('/content/student-por.csv', sep=';')\n",
        "df1['course'] = 'Language'\n",
        "df = df.append(df1, ignore_index=True)"
      ],
      "execution_count": 0,
      "outputs": []
    },
    {
      "cell_type": "code",
      "metadata": {
        "id": "s8K0QmNMKYBK",
        "colab_type": "code",
        "colab": {
          "base_uri": "https://localhost:8080/",
          "height": 185
        },
        "outputId": "16cd3171-0dc3-4d8a-aa91-baa8f0f870aa"
      },
      "source": [
        "MVP(LogisticRegressionCV(n_jobs=-1,\n",
        "                       random_state=33,\n",
        "                       max_iter=200\n",
        "                       )).fastFirst(df, 'course')"
      ],
      "execution_count": 4,
      "outputs": [
        {
          "output_type": "stream",
          "text": [
            "Baseline Accuracy:\n",
            "Language    0.621648\n",
            "Math        0.378352\n",
            "Name: course, dtype: float64\n",
            "\n",
            "\n",
            "Training Accuracy: 0.8287425149700599\n",
            "\n",
            "Test Accuracy: 0.7655502392344498\n",
            "\n"
          ],
          "name": "stdout"
        }
      ]
    },
    {
      "cell_type": "code",
      "metadata": {
        "id": "_djGVV3BwDkM",
        "colab_type": "code",
        "colab": {
          "base_uri": "https://localhost:8080/",
          "height": 118
        },
        "outputId": "c3ec8e05-e8c5-41f0-e21e-01db2d21353e"
      },
      "source": [
        "MVP(LinearRegression()).fastFirst(df, 'G3')"
      ],
      "execution_count": 5,
      "outputs": [
        {
          "output_type": "stream",
          "text": [
            "Baseline MAE: 2.82088122605364\n",
            "\n",
            "Training MAE: 0.9348248456160956\n",
            "\n",
            "Test MAE: 1.0109881978970134\n",
            "\n"
          ],
          "name": "stdout"
        }
      ]
    }
  ]
}